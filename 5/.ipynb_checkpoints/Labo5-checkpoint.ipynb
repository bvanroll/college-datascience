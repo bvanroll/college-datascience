{
 "cells": [
  {
   "cell_type": "markdown",
   "metadata": {},
   "source": [
    "# Labo 5 Data Science : K-NN"
   ]
  },
  {
   "cell_type": "markdown",
   "metadata": {},
   "source": [
    "__Oefening 1__ K-NN classificatie\n",
    "\n",
    "Gegeven volgende beperkte datset :\n",
    "\n",
    "|     naam    | zoetheid |  krokantheid  |   soort  |\n",
    "|-------------|:--------:|:-------------:|---------:|\n",
    "| pompelmoes  |    8     |      5        | fruit    |\n",
    "| groene boon |    3     |      7        | groente  |\n",
    "|    noot     |    3     |      6        | proteïne |\n",
    "|  appelsien  |    7     |      3        | fruit    |\n",
    "\n",
    "We wensen nu voor 2 onbekende ingredienten te beslissen tot welke categorie ze behoren : _fruit, groente of proteïne_ . Deze ingredienten zijn :\n",
    "\n",
    "|  naam     | zoetheid |  krokantheid  |   soort  |\n",
    "|-----------|:--------:|:-------------:|---------:|\n",
    "|  tomaat   |     6    |       4       |     ?    |\n",
    "|  wortel   |     4    |       9       |     ?    |\n",
    "\n",
    "Gebruik K-NN om deze classificatie te doen. \n",
    "\n",
    "* Doe dit eerst visueel : m.a.w. plot de trainings- en test data in het vlak en bepaal visueel de classificatie. Geef dezelfde kleur aan data uit dezelfde klasse.\n",
    "\n",
    "* Gebruik vervolgens de KNeighborsClassifier van module sklearn om de voorspellingen te doen. doe dit eerst voor $k=1$ daarna voor $k=4$. Kan je deze classificaties logisch verklaren?\n"
   ]
  },
  {
   "cell_type": "code",
   "execution_count": null,
   "metadata": {},
   "outputs": [],
   "source": [
    "from sklearn.neighbors import KNeighborsClassifier\n"
   ]
  },
  {
   "cell_type": "markdown",
   "metadata": {},
   "source": [
    "**Oefening 2**  K-NN regression : De bedoeling is dat je een leermodel opstelt om te voorspellen hoeveel het verbuik is van een wagen (in miles /gallon) gegeven de afgelegde weg (in miles) en de pk-waarden van de wagen.\n",
    "\n",
    "1. Lees het bestanden _auto.csv_ in als een dataframe. Ga na wat deze data precies inhoudt en hoe omvangrijk ze is. \n",
    "\n",
    "2. Maak gebruik van de $train\\_test\\_split$ methode om je data op te splitsen in training versus test data. Neem 30% van de data als testdata, 70% van de data als trainingsdata.\n",
    "\n",
    "3. Ga eerst na wat in dit geval een goede waarde voor $k$ zou zijn. Gebruik   \n",
    "  hiervoor de Elbow-methode. Als error bereken je de $mean-squared_error \\; (mse)$ voor  elke k-waarde die je test. Plot de _elbow_ uit in een grafiek (m.a.w. voor elke geteste k de bijbehorende $mse$). De $k-waarden$ neem je oneven als volgt : $ k\\_waarden = np.arrange(1,20,2)$\n",
    "De $mse$ is het gemiddelde van het verschil van de kwadraten tussen elke voorspelde waarde en zijn werkelijke waarde :\n",
    "  \n",
    "  \\begin{equation}\n",
    "  mse = \\frac{1}{len(testset)} \\sum_i (y_{i\\;predicted} - y_{i\\;expected})^2\n",
    "  \\end{equation}\n",
    "  Gelukkig kan python die ook gewoon voor je berekenen : nl. via de $mean\\_squared\\_error$ methode uit : $sklearn.metrics$\n",
    "Test zeker ook uit wat het effect is van de parameter $random\\_state$ in je oproep van de $train\\_test\\_split$ methode die je hierboven gebruikte om je testset te genrereren.\n",
    "\n",
    "4. Werk nu verder met de $k$-waarde die een minimale error geeft in je grafiek. Train je model en bereken de accuracy en de mse op je test set. Maak een plot waarbij je voor de test data de voorspelde en werkelijke mpg waarde uitplot. Neem als waarde voor de X-as gewoon de range(1,119) een nummering over het aantal elementen uit je test set.\n",
    "\n"
   ]
  },
  {
   "cell_type": "code",
   "execution_count": null,
   "metadata": {},
   "outputs": [],
   "source": []
  }
 ],
 "metadata": {
  "kernelspec": {
   "display_name": "Python 3",
   "language": "python",
   "name": "python3"
  },
  "language_info": {
   "codemirror_mode": {
    "name": "ipython",
    "version": 3
   },
   "file_extension": ".py",
   "mimetype": "text/x-python",
   "name": "python",
   "nbconvert_exporter": "python",
   "pygments_lexer": "ipython3",
   "version": "3.7.3"
  }
 },
 "nbformat": 4,
 "nbformat_minor": 2
}
