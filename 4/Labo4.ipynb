{
 "cells": [
  {
   "cell_type": "markdown",
   "metadata": {},
   "source": [
    "# Labo 4 Data Science : pandas"
   ]
  },
  {
   "cell_type": "markdown",
   "metadata": {},
   "source": [
    "### 1. Pandas Series"
   ]
  },
  {
   "cell_type": "markdown",
   "metadata": {},
   "source": [
    "__Oefening 1 __ \n",
    "* Genereer een serie 1 vertrekkende van een lijst (met alle letters van het alfabet)\n",
    "* Genereer een serie 2 vertrekkende van een numpy array \n",
    "(met hierin de cijfers van 1 tot 26) \n",
    "* Genereer een serie 3 vertrekkende van een dict (met als key de cijfers van 1 tot 26 en als value de letters van het alfabet). \n",
    "\n",
    "Geef de index en data values van deze series een naam (name attribute) en druk de eerste en laatste elementen van de series uit.\n",
    "Geef nu ook : \n",
    "\n",
    "* alle elementen van serie 1 die zich op posities $0,4,8,14$ en $20$ bevinden\n",
    "* alle elementen van serie 1 die ook in serie 3 aanwezig zijn\n",
    "* alle elementen van serie 2 die niet in serie 3 aanwezig zijn\n",
    "* verdubbel elke waarde van serie 2\n"
   ]
  },
  {
   "cell_type": "code",
   "execution_count": null,
   "metadata": {},
   "outputs": [],
   "source": []
  },
  {
   "cell_type": "markdown",
   "metadata": {},
   "source": [
    "__Oefening 2 __ \n",
    "\n",
    "Gegeven een serie opgevuld met 10 stukken fruit uit de soorten : apple, lemon,banana,kiwi\n",
    "\n",
    "```\n",
    "fruit = pd.Series(np.random.choice(['apple','lemon', 'banana','kiwi'], 10))\n",
    "```\n",
    "Genereer voor elk element in de serie een gewicht voor het fruit. Geef dan per soort het gemiddeld gewicht. Denk hierbij aan de functie $groupby$ die je kan toepassen op een serie. Gebruik 1 van de numpy $random$ methodes om 10 random gewichten te genereren."
   ]
  },
  {
   "cell_type": "code",
   "execution_count": null,
   "metadata": {},
   "outputs": [],
   "source": []
  },
  {
   "cell_type": "markdown",
   "metadata": {},
   "source": [
    "### 2. Pandas Data Frames"
   ]
  },
  {
   "cell_type": "code",
   "execution_count": null,
   "metadata": {},
   "outputs": [],
   "source": [
    "df1 = pd.concat([ser2, ser3], axis=0)\n",
    "print(df1)\n",
    "print()\n",
    "\n",
    "df2 = pd.DataFrame({'col1': ser1, 'col2': ser2})\n",
    "print(df2.head())"
   ]
  },
  {
   "cell_type": "markdown",
   "metadata": {},
   "source": [
    "__Oefening 3 __\n",
    "Gegeven 3 csv files : _ratings.csv_ , _payments_csv_ en _genres.csv_ . \n",
    "\n",
    "* Load deze files in als 3 aparte data frames. Bekijk de gegevens in deze frames oa. via $head()$, $tail()$, $describe()$ en $info()$\n",
    "\n",
    "* plot de top 10 genre restaurants uit, m.a.w. welk type restaurants is het meest vertegenwoordigd in deze data, toon alleen de top 10. Voor zie op de x-as de verschillende types en op de y-as de aantallen. (_Tip_ : gebruik de $value_counts$ methode) \n",
    "\n",
    "* plot de verschillende betalingsmanieren t.o.v. hoe vaak deze zijn gebruikt in de data"
   ]
  },
  {
   "cell_type": "code",
   "execution_count": null,
   "metadata": {},
   "outputs": [],
   "source": []
  },
  {
   "cell_type": "markdown",
   "metadata": {},
   "source": [
    "__ Oefening 4 __\n",
    "Merge de 3 bovenstaande dataframes tot 1 dataframe. Zorg ervoor dat alle user ratings mee opgenomen zijn in deze tabel."
   ]
  },
  {
   "cell_type": "code",
   "execution_count": null,
   "metadata": {},
   "outputs": [],
   "source": []
  },
  {
   "cell_type": "markdown",
   "metadata": {},
   "source": [
    "__Oefening 5__ Data cleaning : opsporen van ontbrekende data\n",
    "\n",
    "Ga na hoeveel data ontbreekt in je gemergd eindresultaat (aantal NA's). Maak hiertoe een nieuwe dataframe aan. De eerste kolom is het aantal NAN's voor elke kolom van je gemerged eindresultaat. De tweede kolom is het percentage van NA's. _Tip :_ gebruik de $isnull$ methode.\n"
   ]
  },
  {
   "cell_type": "code",
   "execution_count": null,
   "metadata": {},
   "outputs": [],
   "source": []
  },
  {
   "cell_type": "markdown",
   "metadata": {},
   "source": [
    "__ Oefening 5 vervolg __ \n",
    "\n",
    "De _Upayment_ kolom heeft een verwaarloosbaar percentage aan niet ingevulde velden. Deze zet je via de $fillna$ methode op de default betaalwijze : 'cash'\n",
    "\n",
    "De _Rtype_ kolom heeft echter een hoog percentage aan niet ingevulde data. De rijen waarvoor dit het geval is mag je verwijderen."
   ]
  },
  {
   "cell_type": "code",
   "execution_count": null,
   "metadata": {},
   "outputs": [],
   "source": []
  },
  {
   "cell_type": "markdown",
   "metadata": {},
   "source": [
    "__Oefening 6__ Data grouping : \n",
    "\n",
    "Groepeer je opgekuiste datatabel volgens het type restaurant. Maak nu een datatabel waarin je de verschillende ratings per type restaurants gesorteerd (van groot naar klein) weergeeft.\n",
    "\n",
    "Plot voor elk restauranttype de verschillende ratings in een barplot.\n"
   ]
  },
  {
   "cell_type": "code",
   "execution_count": null,
   "metadata": {},
   "outputs": [],
   "source": []
  }
 ],
 "metadata": {
  "kernelspec": {
   "display_name": "Python 3",
   "language": "python",
   "name": "python3"
  },
  "language_info": {
   "codemirror_mode": {
    "name": "ipython",
    "version": 3
   },
   "file_extension": ".py",
   "mimetype": "text/x-python",
   "name": "python",
   "nbconvert_exporter": "python",
   "pygments_lexer": "ipython3",
   "version": "3.6.4"
  }
 },
 "nbformat": 4,
 "nbformat_minor": 2
}
