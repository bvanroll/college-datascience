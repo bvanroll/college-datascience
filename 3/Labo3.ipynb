{
 "cells": [
  {
   "cell_type": "markdown",
   "metadata": {},
   "source": [
    "# Labo 3 Data Science : Numerical Python (numpy)"
   ]
  },
  {
   "cell_type": "markdown",
   "metadata": {},
   "source": [
    "### 1. Matrices als geneste lijsten"
   ]
  },
  {
   "cell_type": "markdown",
   "metadata": {},
   "source": [
    "Een matrix zou je in Python kunnen voorstellen als een geneste lijst. \n",
    "Je kan op een eenvoudige manier elementen accesereren (via de indices, slicing), elementen wijzigen, deleten enz.."
   ]
  },
  {
   "cell_type": "code",
   "execution_count": null,
   "metadata": {},
   "outputs": [],
   "source": [
    "T = [[11, 12, 5, 2], [15, 6, 10, 15], [10, 8, 12, 5], [12,15,8,6]]\n",
    "print(T[0])\n",
    "print(T[1][2])\n",
    "\n",
    "for r in T:\n",
    "    for c in r:\n",
    "        print(c,end = \" \")\n",
    "    print()\n",
    "    \n",
    "print('\\ninserting:' + str([0,5,11,13,6]))\n",
    "#rij toevoegen\n",
    "T.insert(2, [0,5,11,13,6])\n",
    "\n",
    "for r in T:\n",
    "    for c in r:\n",
    "        print(c,end = \" \")\n",
    "    print()\n",
    "\n",
    "print('\\nupdating:')\n",
    "# wijzig de tweede rij naar [11,9,7]\n",
    "T[2] = [11,9,7]\n",
    "# het element op positie(0,3) naar 100\n",
    "T[0][3]=100\n",
    "\n",
    "for r in T:\n",
    "    for c in r:\n",
    "        print(c,end = \" \")\n",
    "    print()\n",
    "\n",
    "print('\\ndeleting')\n",
    "#verwijder de derde rij\n",
    "del T[2]\n",
    "#verwijder het element op postie(0,0)\n",
    "del T[0][0]\n",
    "for r in T:\n",
    "    for c in r:\n",
    "        print(c,end = \" \")\n",
    "    print()\n",
    "\n"
   ]
  },
  {
   "cell_type": "markdown",
   "metadata": {},
   "source": [
    "__Oefening 1__ : Schrijf een Python-functie die een dambordmatrix van dimensie n genereert. Voorbeeld: dambordmatrix van dimensie 3:\n",
    "\\begin{equation*}\n",
    "\\begin{bmatrix}\n",
    "0 & 1 & 0 \\\\\n",
    "1 & 0 & 1 \\\\\n",
    "0 & 1 & 0\n",
    "\\end{bmatrix}\n",
    "\\end{equation*}\n",
    "Elke rij en elke kolom is een alternering van $0$ en$1$. Het is niet toegelaten om numpy te gebruiken !! \n",
    "\n",
    "_Tip:_  [1,2]*2 geeft [1,2,1,2].\n",
    "De python-matrix kan je rechtstreeks visualiseren met __[matplotlib's pcolor](https://matplotlib.org/gallery/images_contours_and_fields/pcolor_demo.html#sphx-glr-gallery-images-contours-and-fields-pcolor-demo-py)__ "
   ]
  },
  {
   "cell_type": "code",
   "execution_count": 18,
   "metadata": {},
   "outputs": [
    {
     "data": {
      "image/png": "[encoded data removed]",
      "text/plain": [
       "<Figure size 288x288 with 1 Axes>"
      ]
     },
     "metadata": {},
     "output_type": "display_data"
    }
   ],
   "source": [
    "import matplotlib.pyplot as plt\n",
    "from matplotlib.colors import LogNorm\n",
    "import time\n",
    "\n",
    "def dam(n):\n",
    "    final = []\n",
    "    val = False\n",
    "    for x in range(n):\n",
    "        tmp = []\n",
    "        for y in range(n):\n",
    "            tmp.append(int(val))\n",
    "            val = not val\n",
    "        final.append(tmp)\n",
    "    return final\n",
    "\n",
    "plt.matshow(dam(5))\n",
    "plt.show()\n",
    "#plt.pcolor(dam(7))\n"
   ]
  },
  {
   "cell_type": "markdown",
   "metadata": {},
   "source": [
    "### 2. Matrices in numpy"
   ]
  },
  {
   "cell_type": "markdown",
   "metadata": {},
   "source": [
    "__Oefening 2__ :\n",
    "Deze oefening vormt een opwarmer op NumPy. De __[Quickstart van NumPy](https://docs.scipy.org/doc/numpy/user/quickstart.html#quickstart-shape-manipulation)__ geeft voldoende info voor deze oefening.\n",
    "* Definieer een klassieke Python-lijst met de gehele getallen van 0 t.e.m. 24.\n",
    "* Zet deze lijst om naar een NumPy-array\n",
    "* Herschik de elementen zodat het een 5x5 matrix wordt\n",
    "* Print van deze matrix: het aantal dimensies, de dimensies (= shape) zelf en het datatype van de elementen\n",
    "* Vermenigvuldig alle elementen met 2\n",
    "* Gebruik slicing om\n",
    "   * de __laatste__ rij weer te geven\n",
    "   * van de eerste 2 rijen de __laatste__ 2 kolommen weer te geven\n",
    "   * alle __even__ rijen en kolommen weer te geven\n",
    "* Toon de booleaanse matrix die aangeeft of de elementen deelbaar zijn door 7\n",
    "* Gebruik deze booleaanse matrix om deze elementen op 0 te zetten\n"
   ]
  },
  {
   "cell_type": "code",
   "execution_count": 48,
   "metadata": {},
   "outputs": [
    {
     "name": "stdout",
     "output_type": "stream",
     "text": [
      "range(0, 25)\n",
      "[ 0  1  2  3  4  5  6  7  8  9 10 11 12 13 14 15 16 17 18 19 20 21 22 23\n",
      " 24]\n",
      "[[ 0  1  2  3  4]\n",
      " [ 5  6  7  8  9]\n",
      " [10 11 12 13 14]\n",
      " [15 16 17 18 19]\n",
      " [20 21 22 23 24]]\n",
      "2\n",
      "(5, 5)\n",
      "int32\n",
      "[[ 0  2  4  6  8]\n",
      " [10 12 14 16 18]\n",
      " [20 22 24 26 28]\n",
      " [30 32 34 36 38]\n",
      " [40 42 44 46 48]]\n",
      "\n",
      "\n",
      "[[40 42 44 46 48]]\n",
      "\n",
      "\n",
      "[[ 6  8]\n",
      " [16 18]]\n",
      "\n",
      "\n",
      "[[12 16]\n",
      " [32 36]]\n",
      "[[ 0  0  0  0  0]\n",
      " [ 0  0 14  0  0]\n",
      " [ 0  0  0  0 28]\n",
      " [ 0  0  0  0  0]\n",
      " [ 0 42  0  0  0]]\n"
     ]
    }
   ],
   "source": [
    "import numpy as np\n",
    "\n",
    "lijst = range(25)\n",
    "print(lijst)\n",
    "lijst = np.array(lijst)\n",
    "print(lijst)\n",
    "lijst = lijst.reshape(5,5)\n",
    "print(lijst)\n",
    "print(lijst.ndim)\n",
    "print(lijst.shape)\n",
    "print(lijst.dtype)\n",
    "\n",
    "lijst = lijst * 2\n",
    "print(lijst)\n",
    "print(\"\\n\")\n",
    "print(lijst[-1:])\n",
    "print(\"\\n\")\n",
    "print(lijst[:2,-2:])\n",
    "print(\"\\n\")\n",
    "print(lijst[1::2,1::2])\n",
    "print(\"\\n\")\n",
    "temp = lijst % 7 == 0\n",
    "print(temp*lijst)\n",
    "\n"
   ]
  },
  {
   "cell_type": "markdown",
   "metadata": {},
   "source": [
    "### 3. Rekenen in numpy"
   ]
  },
  {
   "cell_type": "markdown",
   "metadata": {},
   "source": [
    "Om te rekenen met matrices is de numpy module aangewezen wegens de efficiente manier waarop array operaties zonder loops afgehandeld worden (vectorization). Er wordt onderscheid gemaakt tussen een matrix (2dim) en een ndarray (n dimensies). \n",
    "\n",
    "Merk het verschil tussen de puntsgewijze vermenigvuldiging en de dot vermenigvuldiging, en het verschil van deze operatoren tussen de matrix en de ndarray. Merk al helemaal het verschil in de tijd nodig om de elementen te verdubbelen tussen Python-lists en NumPy-arrays (gebruik ipython magic functie %time)\n"
   ]
  },
  {
   "cell_type": "code",
   "execution_count": null,
   "metadata": {},
   "outputs": [],
   "source": [
    "#vector\n",
    "x = np.array([1,2])\n",
    "\n",
    "#matrix\n",
    "m = np.mat( [[2,3], [3, 5]] )\n",
    "\n",
    "#array\n",
    "y = np.array( [[1,2], [5, -1]] )\n",
    "\n",
    "print(x+x)\n",
    "\n",
    "print('\\n', y*y)\n",
    "print(np.dot(y,y))\n",
    "print(y@y)\n",
    "\n",
    "print('\\n', m*m)\n",
    "print(np.dot(m,m))"
   ]
  },
  {
   "cell_type": "code",
   "execution_count": null,
   "metadata": {},
   "outputs": [],
   "source": [
    "my_array = np.arange(1000000)\n",
    "my_list = list(range(1000000))\n",
    "%time for _ in range(10): my_arr2 = my_array * 2\n"
   ]
  },
  {
   "cell_type": "code",
   "execution_count": null,
   "metadata": {},
   "outputs": [],
   "source": [
    "%time for _ in range(10): my_list2 = [x * 2 for x in my_list]"
   ]
  },
  {
   "cell_type": "markdown",
   "metadata": {},
   "source": [
    "__Oefening 3__ : Vraagstuk : 4 personen kopen elk respectivelijk volgende hoeveelheid paaseieren\n",
    "        * persoon 1 : 100g witte, 175gr bruine, 210gr zwarte\n",
    "        * persoon 2 : 90g witte, 160gr bruine, 150gr zwarte\n",
    "        * persoon 3 : 200g witte, 50gr bruine, 100gr zwarte\n",
    "        * persoon 4 : 120g witte, 310gr zwarte\n",
    "De volgende prijzen worden gehanteerd :\n",
    "* witte chocolade : 2.98 euro / 100g\n",
    "* bruine chocolade : 1.99 euro /100g\n",
    "* zwarte chocolade : 3.90 euro /100g\n",
    "\n",
    "Bereken via matrix operaties in numpy hoeveel euro elk van hen zal betalen."
   ]
  },
  {
   "cell_type": "code",
   "execution_count": 49,
   "metadata": {},
   "outputs": [
    {
     "name": "stdout",
     "output_type": "stream",
     "text": [
      "[[100 175 210]\n",
      " [ 90 160 150]\n",
      " [200  50 100]\n",
      " [120   0 310]]\n",
      "[[0.039 ]\n",
      " [0.0199]\n",
      " [0.0298]]\n",
      "[[13.6405]\n",
      " [11.164 ]\n",
      " [11.775 ]\n",
      " [13.918 ]]\n"
     ]
    }
   ],
   "source": [
    "import numpy as np\n",
    "a = np.mat(((100, 175, 210), (90, 160, 150), (200,50,100), (120,0,310)))\n",
    "b = np.mat((2.98/100,1.99/100,3.90/100))\n",
    "b = np.rot90(b)\n",
    "print(a)\n",
    "print(b)\n",
    "print(a*b)\n"
   ]
  },
  {
   "cell_type": "markdown",
   "metadata": {},
   "source": [
    "__Oefening 4__ Oplossen van een stelsel van lineaire vergelijkingen adhv matrices\n",
    "\n",
    "Gegeven volgend stelsel : \n",
    "\n",
    "\\begin{equation*}\n",
    "\\begin{array}{cc}\n",
    "        y &=& 2x \\\\\n",
    "        y &=& -x + 3\n",
    "\\end{array}\n",
    "\\end{equation*}\n",
    "\n",
    "\n",
    "Zoek enerzijds een oplossing via de formule $\\bf{x} = \\bf{A}^{-1} \\bf{b}$ (zie slides : zoek eerst $\\bf{A}, \\bf{A}^{-1}$ en $\\bf{b}$)\n",
    "\n",
    "Zoek anderzijds een oplossing door de twee rechten te plotten en  visueel het snijpunt te zoeken. "
   ]
  },
  {
   "cell_type": "code",
   "execution_count": 71,
   "metadata": {},
   "outputs": [
    {
     "data": {
      "image/png": "[encoded data removed]",
      "text/plain": [
       "<Figure size 432x288 with 1 Axes>"
      ]
     },
     "metadata": {},
     "output_type": "display_data"
    },
    {
     "name": "stdout",
     "output_type": "stream",
     "text": [
      "[[1. 2.]]\n"
     ]
    }
   ],
   "source": [
    "from numpy.linalg import inv\n",
    "\n",
    "def a(x):\n",
    "    for i in range(x):\n",
    "        yield 2*i\n",
    "\n",
    "def b(x):\n",
    "    for i in range(x):\n",
    "        yield -i+3\n",
    "\n",
    "test = 5\n",
    "plt.plot(range(test), list(a(test)))\n",
    "plt.plot(range(test), list(b(test)))\n",
    "plt.show()\n",
    "\n",
    "c = np.mat(((-2,1),(1,1)))\n",
    "d = np.mat((0,3))\n",
    "e = inv(c)\n",
    "print(d*e)"
   ]
  },
  {
   "cell_type": "markdown",
   "metadata": {},
   "source": [
    "__Oefening 5__ Lineaire transformaties en random punten\n",
    "De $numpy.random$ module voorziet in het genereren van random waarden (voor verschillende probabiliteitsdistributies, bvb de normale verdeling). Genereer een (10x2) matrix met 10 random x en 10 random y waarden volgens een normale verdeling in het interval $[0,1]$. Transformeer vervolgens deze 10 random coordinaten naar 10 nieuwe coordinaten via volgende lineaire transformatie :\n",
    "\\begin{equation*}\n",
    "\\bf{A} = \n",
    "\\begin{bmatrix}\n",
    "-1 & 0 \\\\\n",
    "0 & 1\n",
    "\\end{bmatrix}\n",
    "\\end{equation*}\n",
    "Bereken eerst de determinant van de matrix. (dit geeft je alvast informatie over het type transformatie.)\n",
    "Plot de originele 10 random coördinaten (verbindt ze via een lijn) en doe hetzelfde met de getransformeerde coördinaten. "
   ]
  },
  {
   "cell_type": "code",
   "execution_count": null,
   "metadata": {},
   "outputs": [],
   "source": []
  },
  {
   "cell_type": "markdown",
   "metadata": {},
   "source": [
    "__Oefening 6__: Kwadratische functies of parabolen\n",
    "\n",
    "Kwadratische functies of parabolen kan je als volgt definiëren :\n",
    "\\begin{equation}\n",
    "y = a (x - \\alpha)^2 + \\beta\n",
    "\\end{equation}\n",
    "\n",
    "M.a.w. de parabool is volledig gedefinieerd als je de waarden $a, \\alpha$ en $\\beta$ kent. Van een parabool kan je de top (of het dal) berekenen, de nulpunten (dit zijn de snijpunten met de x-as, er zijn er 2,0 of geen) en de snijpunten met de y-as.  Dit doe je als volgt :\n",
    "\n",
    "* de top bevindt zich op de coördinaten : $(\\alpha,\\beta)$\n",
    "\n",
    "* de nulpunten hebben als coördinaten : $((- of +) \\sqrt(\\frac{- \\beta}{a}) + \\alpha, 0)$\n",
    "\n",
    "* snypunt met de y-as : $(0, a\\alpha^2 + \\beta)$\n",
    "\n",
    "1.a. Schrijf nu zelf een Python-functie $kenmerken\\_parabool(a, alpha, beta)$ die 3 resultaten teruggeeft : de top, de nulpunten en het snijpunt van de y-as\n",
    "\n",
    "1.b Schrijf een functie $waardentabel\\_parabool(a, alpha,beta)$ die een 2dim array berekent met in de eerste rij de x-waarden en als tweede rij de y-waarden van de parabool. De middenste waarde van de tabel is de top, neem nog 3 x-waarden kleiner en 3 x-waarden groter dan de top mee op in de waardentabel. In totaal heb je dus een 2dim array van 7 op 2.\n",
    "\n",
    "1.c Schrijf een functie $parabool(a,alpha,beta)$ die gebruik makende van de waardentabel bepaald in vorige functie een plot maakt van de parabool. \n",
    "Plaats de vergelijking zelf in de grafiektitel.\n",
    "\n",
    "Test je methodes uit met volgende parabolen : \n",
    "* $y = 2(x - 1)^2 - 12$\n",
    "* $y = -4(x - 1)^2 + 4$\n"
   ]
  },
  {
   "cell_type": "code",
   "execution_count": null,
   "metadata": {},
   "outputs": [],
   "source": []
  }
 ],
 "metadata": {
  "kernelspec": {
   "display_name": "Python 3",
   "language": "python",
   "name": "python3"
  },
  "language_info": {
   "codemirror_mode": {
    "name": "ipython",
    "version": 3
   },
   "file_extension": ".py",
   "mimetype": "text/x-python",
   "name": "python",
   "nbconvert_exporter": "python",
   "pygments_lexer": "ipython3",
   "version": "3.6.5"
  }
 },
 "nbformat": 4,
 "nbformat_minor": 2
}
